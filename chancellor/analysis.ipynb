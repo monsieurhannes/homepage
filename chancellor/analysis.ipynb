{
 "cells": [
  {
   "cell_type": "markdown",
   "id": "e9d221e4",
   "metadata": {},
   "source": [
    "Open XLS file"
   ]
  },
  {
   "cell_type": "code",
   "execution_count": 1,
   "id": "f84a99a4",
   "metadata": {},
   "outputs": [],
   "source": [
    "import pandas as pd\n",
    "from datetime import datetime as dt\n",
    "import os\n",
    "import xlrd\n",
    "import plotly"
   ]
  },
  {
   "cell_type": "code",
   "execution_count": 2,
   "id": "6bc79266",
   "metadata": {},
   "outputs": [],
   "source": [
    "df = pd.DataFrame\n",
    "filepath = os.getcwd()\n",
    "filename = \"data.xls\"\n",
    "df = pd.read_excel(os.path.join(filepath,filename),index_col=0)\n",
    "df = df.reset_index()\n",
    "df = df.replace(\"-\", pd.NA)\n",
    "df.fillna(\"nan\",inplace=True)"
   ]
  },
  {
   "cell_type": "markdown",
   "id": "2d72ad95",
   "metadata": {},
   "source": [
    "Calculate age at start of chancellorship"
   ]
  },
  {
   "cell_type": "code",
   "execution_count": 3,
   "id": "2e1f675d",
   "metadata": {},
   "outputs": [],
   "source": [
    "format_1 = \"%Y\"\n",
    "\n",
    "def dt1(x):\n",
    "    if x[\"Geburtsjahr\"] != \"nan\":\n",
    "        return dt.strptime(str(x[\"Geburtsjahr\"]), format_1)\n",
    "def dt2(x):\n",
    "    if x[\"Todesjahr\"] != \"nan\":\n",
    "        return dt.strptime(str(x[\"Todesjahr\"]), format_1)\n",
    "\n",
    "df[\"Amtsantritt\"] = pd.to_datetime(df.Amtsantritt)\n",
    "df[\"Abtritt\"] = pd.to_datetime(df.Abtritt)\n",
    "df[\"Geburtsjahr\"] = df.apply(dt1, axis=1)\n",
    "df[\"Todesjahr\"] = df.apply(dt2, axis=1)"
   ]
  },
  {
   "cell_type": "code",
   "execution_count": 4,
   "id": "6f026f3e",
   "metadata": {},
   "outputs": [],
   "source": [
    "def f1(x):\n",
    "    return int((x[\"Amtsantritt\"] - x[\"Geburtsjahr\"]).days/365.2425)\n",
    "\n",
    "df[\"Antrittsalter\"] = df.apply(f1, axis=1)"
   ]
  },
  {
   "cell_type": "code",
   "execution_count": 5,
   "id": "d553d0ca",
   "metadata": {},
   "outputs": [],
   "source": [
    "def f2(x):\n",
    "    try:\n",
    "        return int((x[\"Abtritt\"] - x[\"Geburtsjahr\"]).days/365.2425)\n",
    "    except:\n",
    "        return pd.NA\n",
    "               \n",
    "df[\"Abtrittsalter\"] = df.apply(f2, axis=1)"
   ]
  },
  {
   "cell_type": "code",
   "execution_count": 6,
   "id": "3cdd42a7",
   "metadata": {},
   "outputs": [],
   "source": [
    "# \"Verjüngung\" bei Regierungswechsel\n",
    "# df['Jünger (Jahre)'] = (df.Abtrittsalter.shift(1) - df.Antrittsalter) if df.Abtrittsalter.shift(1) != \"nan\" else (51.926027 - df.Antrittsalter)\n",
    "df['Jünger (Jahre)'] = (df.Abtrittsalter.shift(1) - df.Antrittsalter) "
   ]
  },
  {
   "cell_type": "code",
   "execution_count": 7,
   "id": "5b9f9cee",
   "metadata": {},
   "outputs": [],
   "source": [
    "df.at[0,\"Jünger (Jahre)\"] = 0\n",
    "df.at[10,\"Jünger (Jahre)\"] = int(67.876712 - 41.860274)\n",
    "df.at[11,\"Jünger (Jahre)\"] = int(67.876712 - 60.871233)\n",
    "df.at[12,\"Jünger (Jahre)\"] = int(67.876712 - 52.865753)\n",
    "df.at[13,\"Jünger (Jahre)\"] = int(67.876712 - 54.868493)"
   ]
  },
  {
   "cell_type": "markdown",
   "id": "4357b6ff",
   "metadata": {},
   "source": [
    "Plot nice graphs"
   ]
  },
  {
   "cell_type": "code",
   "execution_count": 8,
   "id": "a16e666c",
   "metadata": {},
   "outputs": [],
   "source": [
    "df[\"Amtszeit (Jahre)\"] = df[\"Abtritt\"] - df[\"Amtsantritt\"]"
   ]
  },
  {
   "cell_type": "code",
   "execution_count": 9,
   "id": "96a82a0a",
   "metadata": {},
   "outputs": [],
   "source": [
    "def f5(x):\n",
    "    try:\n",
    "        return int((x[\"Amtszeit (Jahre)\"]).days / 365.2425)\n",
    "    except:\n",
    "        return pd.NA\n",
    "\n",
    "df[\"Amtszeit (Jahre)\"] = df.apply(f5, axis=1)"
   ]
  },
  {
   "cell_type": "code",
   "execution_count": 10,
   "id": "4d6cee52",
   "metadata": {},
   "outputs": [],
   "source": [
    "df = df.fillna(0) # replace <NA> with 0\n",
    "df[\"Jünger (Jahre)\"] = df.apply(lambda x: x[\"Jünger (Jahre)\"]*-1, axis=1) # invert \"Jünger (Jahre)\""
   ]
  },
  {
   "cell_type": "code",
   "execution_count": 11,
   "id": "62852fa5",
   "metadata": {},
   "outputs": [
    {
     "data": {
      "text/html": [
       "<div>\n",
       "<style scoped>\n",
       "    .dataframe tbody tr th:only-of-type {\n",
       "        vertical-align: middle;\n",
       "    }\n",
       "\n",
       "    .dataframe tbody tr th {\n",
       "        vertical-align: top;\n",
       "    }\n",
       "\n",
       "    .dataframe thead th {\n",
       "        text-align: right;\n",
       "    }\n",
       "</style>\n",
       "<table border=\"1\" class=\"dataframe\">\n",
       "  <thead>\n",
       "    <tr style=\"text-align: right;\">\n",
       "      <th></th>\n",
       "      <th>Name</th>\n",
       "      <th>Geburtsjahr</th>\n",
       "      <th>Todesjahr</th>\n",
       "      <th>Amtsantritt</th>\n",
       "      <th>Abtritt</th>\n",
       "      <th>Partei</th>\n",
       "      <th>Antrittsalter</th>\n",
       "      <th>Abtrittsalter</th>\n",
       "      <th>Jünger (Jahre)</th>\n",
       "      <th>Amtszeit (Jahre)</th>\n",
       "    </tr>\n",
       "  </thead>\n",
       "  <tbody>\n",
       "    <tr>\n",
       "      <th>0</th>\n",
       "      <td>Konrad Adenauer</td>\n",
       "      <td>1876-01-01</td>\n",
       "      <td>1967-01-01 00:00:00</td>\n",
       "      <td>1949-09-15</td>\n",
       "      <td>1963-10-16 00:00:00</td>\n",
       "      <td>CDU</td>\n",
       "      <td>73</td>\n",
       "      <td>87</td>\n",
       "      <td>0</td>\n",
       "      <td>14</td>\n",
       "    </tr>\n",
       "    <tr>\n",
       "      <th>1</th>\n",
       "      <td>Ludwig Erhard</td>\n",
       "      <td>1897-01-01</td>\n",
       "      <td>1977-01-01 00:00:00</td>\n",
       "      <td>1963-10-16</td>\n",
       "      <td>1966-12-01 00:00:00</td>\n",
       "      <td>CDU</td>\n",
       "      <td>66</td>\n",
       "      <td>69</td>\n",
       "      <td>-21</td>\n",
       "      <td>3</td>\n",
       "    </tr>\n",
       "    <tr>\n",
       "      <th>2</th>\n",
       "      <td>Kurt Georg Kiesinger</td>\n",
       "      <td>1904-01-01</td>\n",
       "      <td>1988-01-01 00:00:00</td>\n",
       "      <td>1966-12-01</td>\n",
       "      <td>1969-10-21 00:00:00</td>\n",
       "      <td>CDU</td>\n",
       "      <td>62</td>\n",
       "      <td>65</td>\n",
       "      <td>-7</td>\n",
       "      <td>2</td>\n",
       "    </tr>\n",
       "    <tr>\n",
       "      <th>3</th>\n",
       "      <td>Willy Brandt</td>\n",
       "      <td>1913-01-01</td>\n",
       "      <td>1992-01-01 00:00:00</td>\n",
       "      <td>1969-10-21</td>\n",
       "      <td>1974-04-07 00:00:00</td>\n",
       "      <td>SPD</td>\n",
       "      <td>56</td>\n",
       "      <td>61</td>\n",
       "      <td>-9</td>\n",
       "      <td>4</td>\n",
       "    </tr>\n",
       "    <tr>\n",
       "      <th>4</th>\n",
       "      <td>Walter Scheel</td>\n",
       "      <td>1919-01-01</td>\n",
       "      <td>2016-01-01 00:00:00</td>\n",
       "      <td>1974-04-07</td>\n",
       "      <td>1974-04-16 00:00:00</td>\n",
       "      <td>FDP</td>\n",
       "      <td>55</td>\n",
       "      <td>55</td>\n",
       "      <td>-6</td>\n",
       "      <td>0</td>\n",
       "    </tr>\n",
       "    <tr>\n",
       "      <th>5</th>\n",
       "      <td>Helmut Schmidt</td>\n",
       "      <td>1918-01-01</td>\n",
       "      <td>2015-01-01 00:00:00</td>\n",
       "      <td>1974-04-16</td>\n",
       "      <td>1982-10-01 00:00:00</td>\n",
       "      <td>SPD</td>\n",
       "      <td>56</td>\n",
       "      <td>64</td>\n",
       "      <td>1</td>\n",
       "      <td>8</td>\n",
       "    </tr>\n",
       "    <tr>\n",
       "      <th>6</th>\n",
       "      <td>Helmut Kohl</td>\n",
       "      <td>1930-01-01</td>\n",
       "      <td>2017-01-01 00:00:00</td>\n",
       "      <td>1982-10-01</td>\n",
       "      <td>1998-10-27 00:00:00</td>\n",
       "      <td>CDU</td>\n",
       "      <td>52</td>\n",
       "      <td>68</td>\n",
       "      <td>-12</td>\n",
       "      <td>16</td>\n",
       "    </tr>\n",
       "    <tr>\n",
       "      <th>7</th>\n",
       "      <td>Gerhard Schröder</td>\n",
       "      <td>1944-01-01</td>\n",
       "      <td>0</td>\n",
       "      <td>1998-10-27</td>\n",
       "      <td>2005-11-22 00:00:00</td>\n",
       "      <td>SPD</td>\n",
       "      <td>54</td>\n",
       "      <td>61</td>\n",
       "      <td>-14</td>\n",
       "      <td>7</td>\n",
       "    </tr>\n",
       "    <tr>\n",
       "      <th>8</th>\n",
       "      <td>Angela Merkel</td>\n",
       "      <td>1954-01-01</td>\n",
       "      <td>0</td>\n",
       "      <td>2005-11-22</td>\n",
       "      <td>2021-10-31 00:00:00</td>\n",
       "      <td>CDU</td>\n",
       "      <td>51</td>\n",
       "      <td>67</td>\n",
       "      <td>-10</td>\n",
       "      <td>15</td>\n",
       "    </tr>\n",
       "    <tr>\n",
       "      <th>9</th>\n",
       "      <td>Olaf Scholz</td>\n",
       "      <td>1958-01-01</td>\n",
       "      <td>0</td>\n",
       "      <td>2021-10-31</td>\n",
       "      <td>0</td>\n",
       "      <td>SPD</td>\n",
       "      <td>63</td>\n",
       "      <td>0</td>\n",
       "      <td>-4</td>\n",
       "      <td>0</td>\n",
       "    </tr>\n",
       "    <tr>\n",
       "      <th>10</th>\n",
       "      <td>Annalena Baerbock</td>\n",
       "      <td>1980-01-01</td>\n",
       "      <td>0</td>\n",
       "      <td>2021-10-31</td>\n",
       "      <td>0</td>\n",
       "      <td>Grüne</td>\n",
       "      <td>41</td>\n",
       "      <td>0</td>\n",
       "      <td>-26</td>\n",
       "      <td>0</td>\n",
       "    </tr>\n",
       "    <tr>\n",
       "      <th>11</th>\n",
       "      <td>Armin Laschet</td>\n",
       "      <td>1961-01-01</td>\n",
       "      <td>0</td>\n",
       "      <td>2021-10-31</td>\n",
       "      <td>0</td>\n",
       "      <td>CDU</td>\n",
       "      <td>60</td>\n",
       "      <td>0</td>\n",
       "      <td>-7</td>\n",
       "      <td>0</td>\n",
       "    </tr>\n",
       "    <tr>\n",
       "      <th>12</th>\n",
       "      <td>Robert Habeck</td>\n",
       "      <td>1969-01-01</td>\n",
       "      <td>0</td>\n",
       "      <td>2021-10-31</td>\n",
       "      <td>0</td>\n",
       "      <td>Grüne</td>\n",
       "      <td>52</td>\n",
       "      <td>0</td>\n",
       "      <td>-15</td>\n",
       "      <td>0</td>\n",
       "    </tr>\n",
       "    <tr>\n",
       "      <th>13</th>\n",
       "      <td>Markus Söder</td>\n",
       "      <td>1967-01-01</td>\n",
       "      <td>0</td>\n",
       "      <td>2021-10-31</td>\n",
       "      <td>0</td>\n",
       "      <td>CSU</td>\n",
       "      <td>54</td>\n",
       "      <td>0</td>\n",
       "      <td>-13</td>\n",
       "      <td>0</td>\n",
       "    </tr>\n",
       "  </tbody>\n",
       "</table>\n",
       "</div>"
      ],
      "text/plain": [
       "                    Name Geburtsjahr            Todesjahr Amtsantritt  \\\n",
       "0        Konrad Adenauer  1876-01-01  1967-01-01 00:00:00  1949-09-15   \n",
       "1          Ludwig Erhard  1897-01-01  1977-01-01 00:00:00  1963-10-16   \n",
       "2   Kurt Georg Kiesinger  1904-01-01  1988-01-01 00:00:00  1966-12-01   \n",
       "3           Willy Brandt  1913-01-01  1992-01-01 00:00:00  1969-10-21   \n",
       "4          Walter Scheel  1919-01-01  2016-01-01 00:00:00  1974-04-07   \n",
       "5         Helmut Schmidt  1918-01-01  2015-01-01 00:00:00  1974-04-16   \n",
       "6            Helmut Kohl  1930-01-01  2017-01-01 00:00:00  1982-10-01   \n",
       "7       Gerhard Schröder  1944-01-01                    0  1998-10-27   \n",
       "8          Angela Merkel  1954-01-01                    0  2005-11-22   \n",
       "9            Olaf Scholz  1958-01-01                    0  2021-10-31   \n",
       "10     Annalena Baerbock  1980-01-01                    0  2021-10-31   \n",
       "11         Armin Laschet  1961-01-01                    0  2021-10-31   \n",
       "12         Robert Habeck  1969-01-01                    0  2021-10-31   \n",
       "13          Markus Söder  1967-01-01                    0  2021-10-31   \n",
       "\n",
       "                Abtritt Partei  Antrittsalter  Abtrittsalter  Jünger (Jahre)  \\\n",
       "0   1963-10-16 00:00:00    CDU             73             87               0   \n",
       "1   1966-12-01 00:00:00    CDU             66             69             -21   \n",
       "2   1969-10-21 00:00:00    CDU             62             65              -7   \n",
       "3   1974-04-07 00:00:00    SPD             56             61              -9   \n",
       "4   1974-04-16 00:00:00    FDP             55             55              -6   \n",
       "5   1982-10-01 00:00:00    SPD             56             64               1   \n",
       "6   1998-10-27 00:00:00    CDU             52             68             -12   \n",
       "7   2005-11-22 00:00:00    SPD             54             61             -14   \n",
       "8   2021-10-31 00:00:00    CDU             51             67             -10   \n",
       "9                     0    SPD             63              0              -4   \n",
       "10                    0  Grüne             41              0             -26   \n",
       "11                    0    CDU             60              0              -7   \n",
       "12                    0  Grüne             52              0             -15   \n",
       "13                    0    CSU             54              0             -13   \n",
       "\n",
       "    Amtszeit (Jahre)  \n",
       "0                 14  \n",
       "1                  3  \n",
       "2                  2  \n",
       "3                  4  \n",
       "4                  0  \n",
       "5                  8  \n",
       "6                 16  \n",
       "7                  7  \n",
       "8                 15  \n",
       "9                  0  \n",
       "10                 0  \n",
       "11                 0  \n",
       "12                 0  \n",
       "13                 0  "
      ]
     },
     "execution_count": 11,
     "metadata": {},
     "output_type": "execute_result"
    }
   ],
   "source": [
    "df"
   ]
  },
  {
   "cell_type": "code",
   "execution_count": 15,
   "id": "62629596",
   "metadata": {
    "tags": []
   },
   "outputs": [
    {
     "data": {
      "application/vnd.plotly.v1+json": {
       "config": {
        "plotlyServerURL": "https://plot.ly"
       },
       "data": [
        {
         "alignmentgroup": "True",
         "customdata": [
          [
           "1949-09-15T00:00:00",
           "1963-10-16T00:00:00"
          ],
          [
           "1963-10-16T00:00:00",
           "1966-12-01T00:00:00"
          ],
          [
           "1966-12-01T00:00:00",
           "1969-10-21T00:00:00"
          ],
          [
           "1982-10-01T00:00:00",
           "1998-10-27T00:00:00"
          ],
          [
           "2005-11-22T00:00:00",
           "2021-10-31T00:00:00"
          ],
          [
           "2021-10-31T00:00:00",
           0
          ]
         ],
         "hovertemplate": "Partei=CDU<br>Name=%{x}<br>Antrittsalter=%{y}<br>Amtsantritt=%{customdata[0]}<br>Abtritt=%{customdata[1]}<extra></extra>",
         "legendgroup": "CDU",
         "marker": {
          "color": "black"
         },
         "name": "CDU",
         "offsetgroup": "CDU",
         "orientation": "v",
         "showlegend": true,
         "textposition": "auto",
         "type": "bar",
         "x": [
          "Konrad Adenauer",
          "Ludwig Erhard",
          "Kurt Georg Kiesinger",
          "Helmut Kohl",
          "Angela Merkel",
          "Armin Laschet"
         ],
         "xaxis": "x",
         "y": [
          73,
          66,
          62,
          52,
          51,
          60
         ],
         "yaxis": "y"
        },
        {
         "alignmentgroup": "True",
         "customdata": [
          [
           "1969-10-21T00:00:00",
           "1974-04-07T00:00:00"
          ],
          [
           "1974-04-16T00:00:00",
           "1982-10-01T00:00:00"
          ],
          [
           "1998-10-27T00:00:00",
           "2005-11-22T00:00:00"
          ],
          [
           "2021-10-31T00:00:00",
           0
          ]
         ],
         "hovertemplate": "Partei=SPD<br>Name=%{x}<br>Antrittsalter=%{y}<br>Amtsantritt=%{customdata[0]}<br>Abtritt=%{customdata[1]}<extra></extra>",
         "legendgroup": "SPD",
         "marker": {
          "color": "red"
         },
         "name": "SPD",
         "offsetgroup": "SPD",
         "orientation": "v",
         "showlegend": true,
         "textposition": "auto",
         "type": "bar",
         "x": [
          "Willy Brandt",
          "Helmut Schmidt",
          "Gerhard Schröder",
          "Olaf Scholz"
         ],
         "xaxis": "x",
         "y": [
          56,
          56,
          54,
          63
         ],
         "yaxis": "y"
        },
        {
         "alignmentgroup": "True",
         "customdata": [
          [
           "1974-04-07T00:00:00",
           "1974-04-16T00:00:00"
          ]
         ],
         "hovertemplate": "Partei=FDP<br>Name=%{x}<br>Antrittsalter=%{y}<br>Amtsantritt=%{customdata[0]}<br>Abtritt=%{customdata[1]}<extra></extra>",
         "legendgroup": "FDP",
         "marker": {
          "color": "yellow"
         },
         "name": "FDP",
         "offsetgroup": "FDP",
         "orientation": "v",
         "showlegend": true,
         "textposition": "auto",
         "type": "bar",
         "x": [
          "Walter Scheel"
         ],
         "xaxis": "x",
         "y": [
          55
         ],
         "yaxis": "y"
        },
        {
         "alignmentgroup": "True",
         "customdata": [
          [
           "2021-10-31T00:00:00",
           0
          ],
          [
           "2021-10-31T00:00:00",
           0
          ]
         ],
         "hovertemplate": "Partei=Grüne<br>Name=%{x}<br>Antrittsalter=%{y}<br>Amtsantritt=%{customdata[0]}<br>Abtritt=%{customdata[1]}<extra></extra>",
         "legendgroup": "Grüne",
         "marker": {
          "color": "green"
         },
         "name": "Grüne",
         "offsetgroup": "Grüne",
         "orientation": "v",
         "showlegend": true,
         "textposition": "auto",
         "type": "bar",
         "x": [
          "Annalena Baerbock",
          "Robert Habeck"
         ],
         "xaxis": "x",
         "y": [
          41,
          52
         ],
         "yaxis": "y"
        },
        {
         "alignmentgroup": "True",
         "customdata": [
          [
           "2021-10-31T00:00:00",
           0
          ]
         ],
         "hovertemplate": "Partei=CSU<br>Name=%{x}<br>Antrittsalter=%{y}<br>Amtsantritt=%{customdata[0]}<br>Abtritt=%{customdata[1]}<extra></extra>",
         "legendgroup": "CSU",
         "marker": {
          "color": "black"
         },
         "name": "CSU",
         "offsetgroup": "CSU",
         "orientation": "v",
         "showlegend": true,
         "textposition": "auto",
         "type": "bar",
         "x": [
          "Markus Söder"
         ],
         "xaxis": "x",
         "y": [
          54
         ],
         "yaxis": "y"
        }
       ],
       "layout": {
        "barmode": "relative",
        "height": 600,
        "legend": {
         "title": {
          "text": "Partei"
         },
         "tracegroupgap": 0
        },
        "margin": {
         "t": 60
        },
        "template": {
         "data": {
          "bar": [
           {
            "error_x": {
             "color": "#2a3f5f"
            },
            "error_y": {
             "color": "#2a3f5f"
            },
            "marker": {
             "line": {
              "color": "#E5ECF6",
              "width": 0.5
             }
            },
            "type": "bar"
           }
          ],
          "barpolar": [
           {
            "marker": {
             "line": {
              "color": "#E5ECF6",
              "width": 0.5
             }
            },
            "type": "barpolar"
           }
          ],
          "carpet": [
           {
            "aaxis": {
             "endlinecolor": "#2a3f5f",
             "gridcolor": "white",
             "linecolor": "white",
             "minorgridcolor": "white",
             "startlinecolor": "#2a3f5f"
            },
            "baxis": {
             "endlinecolor": "#2a3f5f",
             "gridcolor": "white",
             "linecolor": "white",
             "minorgridcolor": "white",
             "startlinecolor": "#2a3f5f"
            },
            "type": "carpet"
           }
          ],
          "choropleth": [
           {
            "colorbar": {
             "outlinewidth": 0,
             "ticks": ""
            },
            "type": "choropleth"
           }
          ],
          "contour": [
           {
            "colorbar": {
             "outlinewidth": 0,
             "ticks": ""
            },
            "colorscale": [
             [
              0,
              "#0d0887"
             ],
             [
              0.1111111111111111,
              "#46039f"
             ],
             [
              0.2222222222222222,
              "#7201a8"
             ],
             [
              0.3333333333333333,
              "#9c179e"
             ],
             [
              0.4444444444444444,
              "#bd3786"
             ],
             [
              0.5555555555555556,
              "#d8576b"
             ],
             [
              0.6666666666666666,
              "#ed7953"
             ],
             [
              0.7777777777777778,
              "#fb9f3a"
             ],
             [
              0.8888888888888888,
              "#fdca26"
             ],
             [
              1,
              "#f0f921"
             ]
            ],
            "type": "contour"
           }
          ],
          "contourcarpet": [
           {
            "colorbar": {
             "outlinewidth": 0,
             "ticks": ""
            },
            "type": "contourcarpet"
           }
          ],
          "heatmap": [
           {
            "colorbar": {
             "outlinewidth": 0,
             "ticks": ""
            },
            "colorscale": [
             [
              0,
              "#0d0887"
             ],
             [
              0.1111111111111111,
              "#46039f"
             ],
             [
              0.2222222222222222,
              "#7201a8"
             ],
             [
              0.3333333333333333,
              "#9c179e"
             ],
             [
              0.4444444444444444,
              "#bd3786"
             ],
             [
              0.5555555555555556,
              "#d8576b"
             ],
             [
              0.6666666666666666,
              "#ed7953"
             ],
             [
              0.7777777777777778,
              "#fb9f3a"
             ],
             [
              0.8888888888888888,
              "#fdca26"
             ],
             [
              1,
              "#f0f921"
             ]
            ],
            "type": "heatmap"
           }
          ],
          "heatmapgl": [
           {
            "colorbar": {
             "outlinewidth": 0,
             "ticks": ""
            },
            "colorscale": [
             [
              0,
              "#0d0887"
             ],
             [
              0.1111111111111111,
              "#46039f"
             ],
             [
              0.2222222222222222,
              "#7201a8"
             ],
             [
              0.3333333333333333,
              "#9c179e"
             ],
             [
              0.4444444444444444,
              "#bd3786"
             ],
             [
              0.5555555555555556,
              "#d8576b"
             ],
             [
              0.6666666666666666,
              "#ed7953"
             ],
             [
              0.7777777777777778,
              "#fb9f3a"
             ],
             [
              0.8888888888888888,
              "#fdca26"
             ],
             [
              1,
              "#f0f921"
             ]
            ],
            "type": "heatmapgl"
           }
          ],
          "histogram": [
           {
            "marker": {
             "colorbar": {
              "outlinewidth": 0,
              "ticks": ""
             }
            },
            "type": "histogram"
           }
          ],
          "histogram2d": [
           {
            "colorbar": {
             "outlinewidth": 0,
             "ticks": ""
            },
            "colorscale": [
             [
              0,
              "#0d0887"
             ],
             [
              0.1111111111111111,
              "#46039f"
             ],
             [
              0.2222222222222222,
              "#7201a8"
             ],
             [
              0.3333333333333333,
              "#9c179e"
             ],
             [
              0.4444444444444444,
              "#bd3786"
             ],
             [
              0.5555555555555556,
              "#d8576b"
             ],
             [
              0.6666666666666666,
              "#ed7953"
             ],
             [
              0.7777777777777778,
              "#fb9f3a"
             ],
             [
              0.8888888888888888,
              "#fdca26"
             ],
             [
              1,
              "#f0f921"
             ]
            ],
            "type": "histogram2d"
           }
          ],
          "histogram2dcontour": [
           {
            "colorbar": {
             "outlinewidth": 0,
             "ticks": ""
            },
            "colorscale": [
             [
              0,
              "#0d0887"
             ],
             [
              0.1111111111111111,
              "#46039f"
             ],
             [
              0.2222222222222222,
              "#7201a8"
             ],
             [
              0.3333333333333333,
              "#9c179e"
             ],
             [
              0.4444444444444444,
              "#bd3786"
             ],
             [
              0.5555555555555556,
              "#d8576b"
             ],
             [
              0.6666666666666666,
              "#ed7953"
             ],
             [
              0.7777777777777778,
              "#fb9f3a"
             ],
             [
              0.8888888888888888,
              "#fdca26"
             ],
             [
              1,
              "#f0f921"
             ]
            ],
            "type": "histogram2dcontour"
           }
          ],
          "mesh3d": [
           {
            "colorbar": {
             "outlinewidth": 0,
             "ticks": ""
            },
            "type": "mesh3d"
           }
          ],
          "parcoords": [
           {
            "line": {
             "colorbar": {
              "outlinewidth": 0,
              "ticks": ""
             }
            },
            "type": "parcoords"
           }
          ],
          "pie": [
           {
            "automargin": true,
            "type": "pie"
           }
          ],
          "scatter": [
           {
            "marker": {
             "colorbar": {
              "outlinewidth": 0,
              "ticks": ""
             }
            },
            "type": "scatter"
           }
          ],
          "scatter3d": [
           {
            "line": {
             "colorbar": {
              "outlinewidth": 0,
              "ticks": ""
             }
            },
            "marker": {
             "colorbar": {
              "outlinewidth": 0,
              "ticks": ""
             }
            },
            "type": "scatter3d"
           }
          ],
          "scattercarpet": [
           {
            "marker": {
             "colorbar": {
              "outlinewidth": 0,
              "ticks": ""
             }
            },
            "type": "scattercarpet"
           }
          ],
          "scattergeo": [
           {
            "marker": {
             "colorbar": {
              "outlinewidth": 0,
              "ticks": ""
             }
            },
            "type": "scattergeo"
           }
          ],
          "scattergl": [
           {
            "marker": {
             "colorbar": {
              "outlinewidth": 0,
              "ticks": ""
             }
            },
            "type": "scattergl"
           }
          ],
          "scattermapbox": [
           {
            "marker": {
             "colorbar": {
              "outlinewidth": 0,
              "ticks": ""
             }
            },
            "type": "scattermapbox"
           }
          ],
          "scatterpolar": [
           {
            "marker": {
             "colorbar": {
              "outlinewidth": 0,
              "ticks": ""
             }
            },
            "type": "scatterpolar"
           }
          ],
          "scatterpolargl": [
           {
            "marker": {
             "colorbar": {
              "outlinewidth": 0,
              "ticks": ""
             }
            },
            "type": "scatterpolargl"
           }
          ],
          "scatterternary": [
           {
            "marker": {
             "colorbar": {
              "outlinewidth": 0,
              "ticks": ""
             }
            },
            "type": "scatterternary"
           }
          ],
          "surface": [
           {
            "colorbar": {
             "outlinewidth": 0,
             "ticks": ""
            },
            "colorscale": [
             [
              0,
              "#0d0887"
             ],
             [
              0.1111111111111111,
              "#46039f"
             ],
             [
              0.2222222222222222,
              "#7201a8"
             ],
             [
              0.3333333333333333,
              "#9c179e"
             ],
             [
              0.4444444444444444,
              "#bd3786"
             ],
             [
              0.5555555555555556,
              "#d8576b"
             ],
             [
              0.6666666666666666,
              "#ed7953"
             ],
             [
              0.7777777777777778,
              "#fb9f3a"
             ],
             [
              0.8888888888888888,
              "#fdca26"
             ],
             [
              1,
              "#f0f921"
             ]
            ],
            "type": "surface"
           }
          ],
          "table": [
           {
            "cells": {
             "fill": {
              "color": "#EBF0F8"
             },
             "line": {
              "color": "white"
             }
            },
            "header": {
             "fill": {
              "color": "#C8D4E3"
             },
             "line": {
              "color": "white"
             }
            },
            "type": "table"
           }
          ]
         },
         "layout": {
          "annotationdefaults": {
           "arrowcolor": "#2a3f5f",
           "arrowhead": 0,
           "arrowwidth": 1
          },
          "autotypenumbers": "strict",
          "coloraxis": {
           "colorbar": {
            "outlinewidth": 0,
            "ticks": ""
           }
          },
          "colorscale": {
           "diverging": [
            [
             0,
             "#8e0152"
            ],
            [
             0.1,
             "#c51b7d"
            ],
            [
             0.2,
             "#de77ae"
            ],
            [
             0.3,
             "#f1b6da"
            ],
            [
             0.4,
             "#fde0ef"
            ],
            [
             0.5,
             "#f7f7f7"
            ],
            [
             0.6,
             "#e6f5d0"
            ],
            [
             0.7,
             "#b8e186"
            ],
            [
             0.8,
             "#7fbc41"
            ],
            [
             0.9,
             "#4d9221"
            ],
            [
             1,
             "#276419"
            ]
           ],
           "sequential": [
            [
             0,
             "#0d0887"
            ],
            [
             0.1111111111111111,
             "#46039f"
            ],
            [
             0.2222222222222222,
             "#7201a8"
            ],
            [
             0.3333333333333333,
             "#9c179e"
            ],
            [
             0.4444444444444444,
             "#bd3786"
            ],
            [
             0.5555555555555556,
             "#d8576b"
            ],
            [
             0.6666666666666666,
             "#ed7953"
            ],
            [
             0.7777777777777778,
             "#fb9f3a"
            ],
            [
             0.8888888888888888,
             "#fdca26"
            ],
            [
             1,
             "#f0f921"
            ]
           ],
           "sequentialminus": [
            [
             0,
             "#0d0887"
            ],
            [
             0.1111111111111111,
             "#46039f"
            ],
            [
             0.2222222222222222,
             "#7201a8"
            ],
            [
             0.3333333333333333,
             "#9c179e"
            ],
            [
             0.4444444444444444,
             "#bd3786"
            ],
            [
             0.5555555555555556,
             "#d8576b"
            ],
            [
             0.6666666666666666,
             "#ed7953"
            ],
            [
             0.7777777777777778,
             "#fb9f3a"
            ],
            [
             0.8888888888888888,
             "#fdca26"
            ],
            [
             1,
             "#f0f921"
            ]
           ]
          },
          "colorway": [
           "#636efa",
           "#EF553B",
           "#00cc96",
           "#ab63fa",
           "#FFA15A",
           "#19d3f3",
           "#FF6692",
           "#B6E880",
           "#FF97FF",
           "#FECB52"
          ],
          "font": {
           "color": "#2a3f5f"
          },
          "geo": {
           "bgcolor": "white",
           "lakecolor": "white",
           "landcolor": "#E5ECF6",
           "showlakes": true,
           "showland": true,
           "subunitcolor": "white"
          },
          "hoverlabel": {
           "align": "left"
          },
          "hovermode": "closest",
          "mapbox": {
           "style": "light"
          },
          "paper_bgcolor": "white",
          "plot_bgcolor": "#E5ECF6",
          "polar": {
           "angularaxis": {
            "gridcolor": "white",
            "linecolor": "white",
            "ticks": ""
           },
           "bgcolor": "#E5ECF6",
           "radialaxis": {
            "gridcolor": "white",
            "linecolor": "white",
            "ticks": ""
           }
          },
          "scene": {
           "xaxis": {
            "backgroundcolor": "#E5ECF6",
            "gridcolor": "white",
            "gridwidth": 2,
            "linecolor": "white",
            "showbackground": true,
            "ticks": "",
            "zerolinecolor": "white"
           },
           "yaxis": {
            "backgroundcolor": "#E5ECF6",
            "gridcolor": "white",
            "gridwidth": 2,
            "linecolor": "white",
            "showbackground": true,
            "ticks": "",
            "zerolinecolor": "white"
           },
           "zaxis": {
            "backgroundcolor": "#E5ECF6",
            "gridcolor": "white",
            "gridwidth": 2,
            "linecolor": "white",
            "showbackground": true,
            "ticks": "",
            "zerolinecolor": "white"
           }
          },
          "shapedefaults": {
           "line": {
            "color": "#2a3f5f"
           }
          },
          "ternary": {
           "aaxis": {
            "gridcolor": "white",
            "linecolor": "white",
            "ticks": ""
           },
           "baxis": {
            "gridcolor": "white",
            "linecolor": "white",
            "ticks": ""
           },
           "bgcolor": "#E5ECF6",
           "caxis": {
            "gridcolor": "white",
            "linecolor": "white",
            "ticks": ""
           }
          },
          "title": {
           "x": 0.05
          },
          "xaxis": {
           "automargin": true,
           "gridcolor": "white",
           "linecolor": "white",
           "ticks": "",
           "title": {
            "standoff": 15
           },
           "zerolinecolor": "white",
           "zerolinewidth": 2
          },
          "yaxis": {
           "automargin": true,
           "gridcolor": "white",
           "linecolor": "white",
           "ticks": "",
           "title": {
            "standoff": 15
           },
           "zerolinecolor": "white",
           "zerolinewidth": 2
          }
         }
        },
        "width": 800,
        "xaxis": {
         "anchor": "y",
         "autorange": true,
         "categoryorder": "total ascending",
         "domain": [
          0,
          1
         ],
         "range": [
          -0.5,
          13.5
         ],
         "title": {
          "text": "Name"
         },
         "type": "category"
        },
        "yaxis": {
         "anchor": "x",
         "autorange": true,
         "domain": [
          0,
          1
         ],
         "range": [
          0,
          76.84210526315789
         ],
         "title": {
          "text": "Antrittsalter"
         },
         "type": "linear"
        }
       }
      },
      "image/png": "[encoded data removed]",
      "text/html": [
       "<div>                            <div id=\"a9deff81-d16c-40fc-acb5-f02e70102a8c\" class=\"plotly-graph-div\" style=\"height:600px; width:800px;\"></div>            <script type=\"text/javascript\">                require([\"plotly\"], function(Plotly) {                    window.PLOTLYENV=window.PLOTLYENV || {};                                    if (document.getElementById(\"a9deff81-d16c-40fc-acb5-f02e70102a8c\")) {                    Plotly.newPlot(                        \"a9deff81-d16c-40fc-acb5-f02e70102a8c\",                        [{\"alignmentgroup\":\"True\",\"customdata\":[[\"1949-09-15T00:00:00\",\"1963-10-16T00:00:00\"],[\"1963-10-16T00:00:00\",\"1966-12-01T00:00:00\"],[\"1966-12-01T00:00:00\",\"1969-10-21T00:00:00\"],[\"1982-10-01T00:00:00\",\"1998-10-27T00:00:00\"],[\"2005-11-22T00:00:00\",\"2021-10-31T00:00:00\"],[\"2021-10-31T00:00:00\",0]],\"hovertemplate\":\"Partei=CDU<br>Name=%{x}<br>Antrittsalter=%{y}<br>Amtsantritt=%{customdata[0]}<br>Abtritt=%{customdata[1]}<extra></extra>\",\"legendgroup\":\"CDU\",\"marker\":{\"color\":\"black\"},\"name\":\"CDU\",\"offsetgroup\":\"CDU\",\"orientation\":\"v\",\"showlegend\":true,\"textposition\":\"auto\",\"type\":\"bar\",\"x\":[\"Konrad Adenauer\",\"Ludwig Erhard\",\"Kurt Georg Kiesinger\",\"Helmut Kohl\",\"Angela Merkel\",\"Armin Laschet\"],\"xaxis\":\"x\",\"y\":[73,66,62,52,51,60],\"yaxis\":\"y\"},{\"alignmentgroup\":\"True\",\"customdata\":[[\"1969-10-21T00:00:00\",\"1974-04-07T00:00:00\"],[\"1974-04-16T00:00:00\",\"1982-10-01T00:00:00\"],[\"1998-10-27T00:00:00\",\"2005-11-22T00:00:00\"],[\"2021-10-31T00:00:00\",0]],\"hovertemplate\":\"Partei=SPD<br>Name=%{x}<br>Antrittsalter=%{y}<br>Amtsantritt=%{customdata[0]}<br>Abtritt=%{customdata[1]}<extra></extra>\",\"legendgroup\":\"SPD\",\"marker\":{\"color\":\"red\"},\"name\":\"SPD\",\"offsetgroup\":\"SPD\",\"orientation\":\"v\",\"showlegend\":true,\"textposition\":\"auto\",\"type\":\"bar\",\"x\":[\"Willy Brandt\",\"Helmut Schmidt\",\"Gerhard Schr\\u00f6der\",\"Olaf Scholz\"],\"xaxis\":\"x\",\"y\":[56,56,54,63],\"yaxis\":\"y\"},{\"alignmentgroup\":\"True\",\"customdata\":[[\"1974-04-07T00:00:00\",\"1974-04-16T00:00:00\"]],\"hovertemplate\":\"Partei=FDP<br>Name=%{x}<br>Antrittsalter=%{y}<br>Amtsantritt=%{customdata[0]}<br>Abtritt=%{customdata[1]}<extra></extra>\",\"legendgroup\":\"FDP\",\"marker\":{\"color\":\"yellow\"},\"name\":\"FDP\",\"offsetgroup\":\"FDP\",\"orientation\":\"v\",\"showlegend\":true,\"textposition\":\"auto\",\"type\":\"bar\",\"x\":[\"Walter Scheel\"],\"xaxis\":\"x\",\"y\":[55],\"yaxis\":\"y\"},{\"alignmentgroup\":\"True\",\"customdata\":[[\"2021-10-31T00:00:00\",0],[\"2021-10-31T00:00:00\",0]],\"hovertemplate\":\"Partei=Gr\\u00fcne<br>Name=%{x}<br>Antrittsalter=%{y}<br>Amtsantritt=%{customdata[0]}<br>Abtritt=%{customdata[1]}<extra></extra>\",\"legendgroup\":\"Gr\\u00fcne\",\"marker\":{\"color\":\"green\"},\"name\":\"Gr\\u00fcne\",\"offsetgroup\":\"Gr\\u00fcne\",\"orientation\":\"v\",\"showlegend\":true,\"textposition\":\"auto\",\"type\":\"bar\",\"x\":[\"Annalena Baerbock\",\"Robert Habeck\"],\"xaxis\":\"x\",\"y\":[41,52],\"yaxis\":\"y\"},{\"alignmentgroup\":\"True\",\"customdata\":[[\"2021-10-31T00:00:00\",0]],\"hovertemplate\":\"Partei=CSU<br>Name=%{x}<br>Antrittsalter=%{y}<br>Amtsantritt=%{customdata[0]}<br>Abtritt=%{customdata[1]}<extra></extra>\",\"legendgroup\":\"CSU\",\"marker\":{\"color\":\"black\"},\"name\":\"CSU\",\"offsetgroup\":\"CSU\",\"orientation\":\"v\",\"showlegend\":true,\"textposition\":\"auto\",\"type\":\"bar\",\"x\":[\"Markus S\\u00f6der\"],\"xaxis\":\"x\",\"y\":[54],\"yaxis\":\"y\"}],                        {\"barmode\":\"relative\",\"height\":600,\"legend\":{\"title\":{\"text\":\"Partei\"},\"tracegroupgap\":0},\"margin\":{\"t\":60},\"template\":{\"data\":{\"bar\":[{\"error_x\":{\"color\":\"#2a3f5f\"},\"error_y\":{\"color\":\"#2a3f5f\"},\"marker\":{\"line\":{\"color\":\"#E5ECF6\",\"width\":0.5}},\"type\":\"bar\"}],\"barpolar\":[{\"marker\":{\"line\":{\"color\":\"#E5ECF6\",\"width\":0.5}},\"type\":\"barpolar\"}],\"carpet\":[{\"aaxis\":{\"endlinecolor\":\"#2a3f5f\",\"gridcolor\":\"white\",\"linecolor\":\"white\",\"minorgridcolor\":\"white\",\"startlinecolor\":\"#2a3f5f\"},\"baxis\":{\"endlinecolor\":\"#2a3f5f\",\"gridcolor\":\"white\",\"linecolor\":\"white\",\"minorgridcolor\":\"white\",\"startlinecolor\":\"#2a3f5f\"},\"type\":\"carpet\"}],\"choropleth\":[{\"colorbar\":{\"outlinewidth\":0,\"ticks\":\"\"},\"type\":\"choropleth\"}],\"contour\":[{\"colorbar\":{\"outlinewidth\":0,\"ticks\":\"\"},\"colorscale\":[[0.0,\"#0d0887\"],[0.1111111111111111,\"#46039f\"],[0.2222222222222222,\"#7201a8\"],[0.3333333333333333,\"#9c179e\"],[0.4444444444444444,\"#bd3786\"],[0.5555555555555556,\"#d8576b\"],[0.6666666666666666,\"#ed7953\"],[0.7777777777777778,\"#fb9f3a\"],[0.8888888888888888,\"#fdca26\"],[1.0,\"#f0f921\"]],\"type\":\"contour\"}],\"contourcarpet\":[{\"colorbar\":{\"outlinewidth\":0,\"ticks\":\"\"},\"type\":\"contourcarpet\"}],\"heatmap\":[{\"colorbar\":{\"outlinewidth\":0,\"ticks\":\"\"},\"colorscale\":[[0.0,\"#0d0887\"],[0.1111111111111111,\"#46039f\"],[0.2222222222222222,\"#7201a8\"],[0.3333333333333333,\"#9c179e\"],[0.4444444444444444,\"#bd3786\"],[0.5555555555555556,\"#d8576b\"],[0.6666666666666666,\"#ed7953\"],[0.7777777777777778,\"#fb9f3a\"],[0.8888888888888888,\"#fdca26\"],[1.0,\"#f0f921\"]],\"type\":\"heatmap\"}],\"heatmapgl\":[{\"colorbar\":{\"outlinewidth\":0,\"ticks\":\"\"},\"colorscale\":[[0.0,\"#0d0887\"],[0.1111111111111111,\"#46039f\"],[0.2222222222222222,\"#7201a8\"],[0.3333333333333333,\"#9c179e\"],[0.4444444444444444,\"#bd3786\"],[0.5555555555555556,\"#d8576b\"],[0.6666666666666666,\"#ed7953\"],[0.7777777777777778,\"#fb9f3a\"],[0.8888888888888888,\"#fdca26\"],[1.0,\"#f0f921\"]],\"type\":\"heatmapgl\"}],\"histogram\":[{\"marker\":{\"colorbar\":{\"outlinewidth\":0,\"ticks\":\"\"}},\"type\":\"histogram\"}],\"histogram2d\":[{\"colorbar\":{\"outlinewidth\":0,\"ticks\":\"\"},\"colorscale\":[[0.0,\"#0d0887\"],[0.1111111111111111,\"#46039f\"],[0.2222222222222222,\"#7201a8\"],[0.3333333333333333,\"#9c179e\"],[0.4444444444444444,\"#bd3786\"],[0.5555555555555556,\"#d8576b\"],[0.6666666666666666,\"#ed7953\"],[0.7777777777777778,\"#fb9f3a\"],[0.8888888888888888,\"#fdca26\"],[1.0,\"#f0f921\"]],\"type\":\"histogram2d\"}],\"histogram2dcontour\":[{\"colorbar\":{\"outlinewidth\":0,\"ticks\":\"\"},\"colorscale\":[[0.0,\"#0d0887\"],[0.1111111111111111,\"#46039f\"],[0.2222222222222222,\"#7201a8\"],[0.3333333333333333,\"#9c179e\"],[0.4444444444444444,\"#bd3786\"],[0.5555555555555556,\"#d8576b\"],[0.6666666666666666,\"#ed7953\"],[0.7777777777777778,\"#fb9f3a\"],[0.8888888888888888,\"#fdca26\"],[1.0,\"#f0f921\"]],\"type\":\"histogram2dcontour\"}],\"mesh3d\":[{\"colorbar\":{\"outlinewidth\":0,\"ticks\":\"\"},\"type\":\"mesh3d\"}],\"parcoords\":[{\"line\":{\"colorbar\":{\"outlinewidth\":0,\"ticks\":\"\"}},\"type\":\"parcoords\"}],\"pie\":[{\"automargin\":true,\"type\":\"pie\"}],\"scatter\":[{\"marker\":{\"colorbar\":{\"outlinewidth\":0,\"ticks\":\"\"}},\"type\":\"scatter\"}],\"scatter3d\":[{\"line\":{\"colorbar\":{\"outlinewidth\":0,\"ticks\":\"\"}},\"marker\":{\"colorbar\":{\"outlinewidth\":0,\"ticks\":\"\"}},\"type\":\"scatter3d\"}],\"scattercarpet\":[{\"marker\":{\"colorbar\":{\"outlinewidth\":0,\"ticks\":\"\"}},\"type\":\"scattercarpet\"}],\"scattergeo\":[{\"marker\":{\"colorbar\":{\"outlinewidth\":0,\"ticks\":\"\"}},\"type\":\"scattergeo\"}],\"scattergl\":[{\"marker\":{\"colorbar\":{\"outlinewidth\":0,\"ticks\":\"\"}},\"type\":\"scattergl\"}],\"scattermapbox\":[{\"marker\":{\"colorbar\":{\"outlinewidth\":0,\"ticks\":\"\"}},\"type\":\"scattermapbox\"}],\"scatterpolar\":[{\"marker\":{\"colorbar\":{\"outlinewidth\":0,\"ticks\":\"\"}},\"type\":\"scatterpolar\"}],\"scatterpolargl\":[{\"marker\":{\"colorbar\":{\"outlinewidth\":0,\"ticks\":\"\"}},\"type\":\"scatterpolargl\"}],\"scatterternary\":[{\"marker\":{\"colorbar\":{\"outlinewidth\":0,\"ticks\":\"\"}},\"type\":\"scatterternary\"}],\"surface\":[{\"colorbar\":{\"outlinewidth\":0,\"ticks\":\"\"},\"colorscale\":[[0.0,\"#0d0887\"],[0.1111111111111111,\"#46039f\"],[0.2222222222222222,\"#7201a8\"],[0.3333333333333333,\"#9c179e\"],[0.4444444444444444,\"#bd3786\"],[0.5555555555555556,\"#d8576b\"],[0.6666666666666666,\"#ed7953\"],[0.7777777777777778,\"#fb9f3a\"],[0.8888888888888888,\"#fdca26\"],[1.0,\"#f0f921\"]],\"type\":\"surface\"}],\"table\":[{\"cells\":{\"fill\":{\"color\":\"#EBF0F8\"},\"line\":{\"color\":\"white\"}},\"header\":{\"fill\":{\"color\":\"#C8D4E3\"},\"line\":{\"color\":\"white\"}},\"type\":\"table\"}]},\"layout\":{\"annotationdefaults\":{\"arrowcolor\":\"#2a3f5f\",\"arrowhead\":0,\"arrowwidth\":1},\"autotypenumbers\":\"strict\",\"coloraxis\":{\"colorbar\":{\"outlinewidth\":0,\"ticks\":\"\"}},\"colorscale\":{\"diverging\":[[0,\"#8e0152\"],[0.1,\"#c51b7d\"],[0.2,\"#de77ae\"],[0.3,\"#f1b6da\"],[0.4,\"#fde0ef\"],[0.5,\"#f7f7f7\"],[0.6,\"#e6f5d0\"],[0.7,\"#b8e186\"],[0.8,\"#7fbc41\"],[0.9,\"#4d9221\"],[1,\"#276419\"]],\"sequential\":[[0.0,\"#0d0887\"],[0.1111111111111111,\"#46039f\"],[0.2222222222222222,\"#7201a8\"],[0.3333333333333333,\"#9c179e\"],[0.4444444444444444,\"#bd3786\"],[0.5555555555555556,\"#d8576b\"],[0.6666666666666666,\"#ed7953\"],[0.7777777777777778,\"#fb9f3a\"],[0.8888888888888888,\"#fdca26\"],[1.0,\"#f0f921\"]],\"sequentialminus\":[[0.0,\"#0d0887\"],[0.1111111111111111,\"#46039f\"],[0.2222222222222222,\"#7201a8\"],[0.3333333333333333,\"#9c179e\"],[0.4444444444444444,\"#bd3786\"],[0.5555555555555556,\"#d8576b\"],[0.6666666666666666,\"#ed7953\"],[0.7777777777777778,\"#fb9f3a\"],[0.8888888888888888,\"#fdca26\"],[1.0,\"#f0f921\"]]},\"colorway\":[\"#636efa\",\"#EF553B\",\"#00cc96\",\"#ab63fa\",\"#FFA15A\",\"#19d3f3\",\"#FF6692\",\"#B6E880\",\"#FF97FF\",\"#FECB52\"],\"font\":{\"color\":\"#2a3f5f\"},\"geo\":{\"bgcolor\":\"white\",\"lakecolor\":\"white\",\"landcolor\":\"#E5ECF6\",\"showlakes\":true,\"showland\":true,\"subunitcolor\":\"white\"},\"hoverlabel\":{\"align\":\"left\"},\"hovermode\":\"closest\",\"mapbox\":{\"style\":\"light\"},\"paper_bgcolor\":\"white\",\"plot_bgcolor\":\"#E5ECF6\",\"polar\":{\"angularaxis\":{\"gridcolor\":\"white\",\"linecolor\":\"white\",\"ticks\":\"\"},\"bgcolor\":\"#E5ECF6\",\"radialaxis\":{\"gridcolor\":\"white\",\"linecolor\":\"white\",\"ticks\":\"\"}},\"scene\":{\"xaxis\":{\"backgroundcolor\":\"#E5ECF6\",\"gridcolor\":\"white\",\"gridwidth\":2,\"linecolor\":\"white\",\"showbackground\":true,\"ticks\":\"\",\"zerolinecolor\":\"white\"},\"yaxis\":{\"backgroundcolor\":\"#E5ECF6\",\"gridcolor\":\"white\",\"gridwidth\":2,\"linecolor\":\"white\",\"showbackground\":true,\"ticks\":\"\",\"zerolinecolor\":\"white\"},\"zaxis\":{\"backgroundcolor\":\"#E5ECF6\",\"gridcolor\":\"white\",\"gridwidth\":2,\"linecolor\":\"white\",\"showbackground\":true,\"ticks\":\"\",\"zerolinecolor\":\"white\"}},\"shapedefaults\":{\"line\":{\"color\":\"#2a3f5f\"}},\"ternary\":{\"aaxis\":{\"gridcolor\":\"white\",\"linecolor\":\"white\",\"ticks\":\"\"},\"baxis\":{\"gridcolor\":\"white\",\"linecolor\":\"white\",\"ticks\":\"\"},\"bgcolor\":\"#E5ECF6\",\"caxis\":{\"gridcolor\":\"white\",\"linecolor\":\"white\",\"ticks\":\"\"}},\"title\":{\"x\":0.05},\"xaxis\":{\"automargin\":true,\"gridcolor\":\"white\",\"linecolor\":\"white\",\"ticks\":\"\",\"title\":{\"standoff\":15},\"zerolinecolor\":\"white\",\"zerolinewidth\":2},\"yaxis\":{\"automargin\":true,\"gridcolor\":\"white\",\"linecolor\":\"white\",\"ticks\":\"\",\"title\":{\"standoff\":15},\"zerolinecolor\":\"white\",\"zerolinewidth\":2}}},\"width\":800,\"xaxis\":{\"anchor\":\"y\",\"categoryorder\":\"total ascending\",\"domain\":[0.0,1.0],\"title\":{\"text\":\"Name\"}},\"yaxis\":{\"anchor\":\"x\",\"domain\":[0.0,1.0],\"title\":{\"text\":\"Antrittsalter\"}}},                        {\"responsive\": true}                    ).then(function(){\n",
       "                            \n",
       "var gd = document.getElementById('a9deff81-d16c-40fc-acb5-f02e70102a8c');\n",
       "var x = new MutationObserver(function (mutations, observer) {{\n",
       "        var display = window.getComputedStyle(gd).display;\n",
       "        if (!display || display === 'none') {{\n",
       "            console.log([gd, 'removed!']);\n",
       "            Plotly.purge(gd);\n",
       "            observer.disconnect();\n",
       "        }}\n",
       "}});\n",
       "\n",
       "// Listen for the removal of the full notebook cells\n",
       "var notebookContainer = gd.closest('#notebook-container');\n",
       "if (notebookContainer) {{\n",
       "    x.observe(notebookContainer, {childList: true});\n",
       "}}\n",
       "\n",
       "// Listen for the clearing of the current output cell\n",
       "var outputEl = gd.closest('.output');\n",
       "if (outputEl) {{\n",
       "    x.observe(outputEl, {childList: true});\n",
       "}}\n",
       "\n",
       "                        })                };                });            </script>        </div>"
      ]
     },
     "metadata": {},
     "output_type": "display_data"
    }
   ],
   "source": [
    "import plotly.express as px\n",
    "fig1 = px.bar(df, x='Name', y='Antrittsalter',\n",
    "             hover_data=['Name', 'Amtsantritt', \"Abtritt\"], color='Partei', height=600, width=800, color_discrete_map={\n",
    "                \"CDU\":\"black\",\n",
    "                \"SPD\": \"red\",\n",
    "                \"Grüne\": \"green\",\n",
    "                \"FDP\": \"yellow\",\n",
    "                \"CSU\": \"black\"})\n",
    "fig1.update_layout(xaxis={'categoryorder':'total ascending'})\n",
    "fig1.show()"
   ]
  },
  {
   "cell_type": "code",
   "execution_count": 13,
   "id": "8bbff338",
   "metadata": {},
   "outputs": [
    {
     "data": {
      "application/vnd.plotly.v1+json": {
       "config": {
        "plotlyServerURL": "https://plot.ly"
       },
       "data": [
        {
         "alignmentgroup": "True",
         "customdata": [
          [
           "1949-09-15T00:00:00",
           "1963-10-16T00:00:00"
          ],
          [
           "1963-10-16T00:00:00",
           "1966-12-01T00:00:00"
          ],
          [
           "1966-12-01T00:00:00",
           "1969-10-21T00:00:00"
          ],
          [
           "1969-10-21T00:00:00",
           "1974-04-07T00:00:00"
          ],
          [
           "1974-04-07T00:00:00",
           "1974-04-16T00:00:00"
          ],
          [
           "1974-04-16T00:00:00",
           "1982-10-01T00:00:00"
          ],
          [
           "1982-10-01T00:00:00",
           "1998-10-27T00:00:00"
          ],
          [
           "1998-10-27T00:00:00",
           "2005-11-22T00:00:00"
          ],
          [
           "2005-11-22T00:00:00",
           "2021-10-31T00:00:00"
          ],
          [
           "2021-10-31T00:00:00",
           0
          ],
          [
           "2021-10-31T00:00:00",
           0
          ],
          [
           "2021-10-31T00:00:00",
           0
          ],
          [
           "2021-10-31T00:00:00",
           0
          ],
          [
           "2021-10-31T00:00:00",
           0
          ]
         ],
         "hovertemplate": "variable=Jünger (Jahre)<br>Kanzler(kandidaten)=%{x}<br>value=%{y}<br>Amtsantritt=%{customdata[0]}<br>Abtritt=%{customdata[1]}<extra></extra>",
         "legendgroup": "Jünger (Jahre)",
         "marker": {
          "color": "rgb(102, 197, 204)"
         },
         "name": "Jünger (Jahre)",
         "offsetgroup": "Jünger (Jahre)",
         "orientation": "v",
         "showlegend": true,
         "textposition": "auto",
         "type": "bar",
         "x": [
          "Konrad Adenauer",
          "Ludwig Erhard",
          "Kurt Georg Kiesinger",
          "Willy Brandt",
          "Walter Scheel",
          "Helmut Schmidt",
          "Helmut Kohl",
          "Gerhard Schröder",
          "Angela Merkel",
          "Olaf Scholz",
          "Annalena Baerbock",
          "Armin Laschet",
          "Robert Habeck",
          "Markus Söder"
         ],
         "xaxis": "x",
         "y": [
          0,
          -21,
          -7,
          -9,
          -6,
          1,
          -12,
          -14,
          -10,
          -4,
          -26,
          -7,
          -15,
          -13
         ],
         "yaxis": "y"
        },
        {
         "alignmentgroup": "True",
         "customdata": [
          [
           "1949-09-15T00:00:00",
           "1963-10-16T00:00:00"
          ],
          [
           "1963-10-16T00:00:00",
           "1966-12-01T00:00:00"
          ],
          [
           "1966-12-01T00:00:00",
           "1969-10-21T00:00:00"
          ],
          [
           "1969-10-21T00:00:00",
           "1974-04-07T00:00:00"
          ],
          [
           "1974-04-07T00:00:00",
           "1974-04-16T00:00:00"
          ],
          [
           "1974-04-16T00:00:00",
           "1982-10-01T00:00:00"
          ],
          [
           "1982-10-01T00:00:00",
           "1998-10-27T00:00:00"
          ],
          [
           "1998-10-27T00:00:00",
           "2005-11-22T00:00:00"
          ],
          [
           "2005-11-22T00:00:00",
           "2021-10-31T00:00:00"
          ],
          [
           "2021-10-31T00:00:00",
           0
          ],
          [
           "2021-10-31T00:00:00",
           0
          ],
          [
           "2021-10-31T00:00:00",
           0
          ],
          [
           "2021-10-31T00:00:00",
           0
          ],
          [
           "2021-10-31T00:00:00",
           0
          ]
         ],
         "hovertemplate": "variable=Amtszeit (Jahre)<br>Kanzler(kandidaten)=%{x}<br>value=%{y}<br>Amtsantritt=%{customdata[0]}<br>Abtritt=%{customdata[1]}<extra></extra>",
         "legendgroup": "Amtszeit (Jahre)",
         "marker": {
          "color": "rgb(246, 207, 113)"
         },
         "name": "Amtszeit (Jahre)",
         "offsetgroup": "Amtszeit (Jahre)",
         "orientation": "v",
         "showlegend": true,
         "textposition": "auto",
         "type": "bar",
         "x": [
          "Konrad Adenauer",
          "Ludwig Erhard",
          "Kurt Georg Kiesinger",
          "Willy Brandt",
          "Walter Scheel",
          "Helmut Schmidt",
          "Helmut Kohl",
          "Gerhard Schröder",
          "Angela Merkel",
          "Olaf Scholz",
          "Annalena Baerbock",
          "Armin Laschet",
          "Robert Habeck",
          "Markus Söder"
         ],
         "xaxis": "x",
         "y": [
          14,
          3,
          2,
          4,
          0,
          8,
          16,
          7,
          15,
          0,
          0,
          0,
          0,
          0
         ],
         "yaxis": "y"
        }
       ],
       "layout": {
        "barmode": "group",
        "height": 600,
        "legend": {
         "title": {
          "text": "variable"
         },
         "tracegroupgap": 0
        },
        "template": {
         "data": {
          "bar": [
           {
            "error_x": {
             "color": "#2a3f5f"
            },
            "error_y": {
             "color": "#2a3f5f"
            },
            "marker": {
             "line": {
              "color": "#E5ECF6",
              "width": 0.5
             }
            },
            "type": "bar"
           }
          ],
          "barpolar": [
           {
            "marker": {
             "line": {
              "color": "#E5ECF6",
              "width": 0.5
             }
            },
            "type": "barpolar"
           }
          ],
          "carpet": [
           {
            "aaxis": {
             "endlinecolor": "#2a3f5f",
             "gridcolor": "white",
             "linecolor": "white",
             "minorgridcolor": "white",
             "startlinecolor": "#2a3f5f"
            },
            "baxis": {
             "endlinecolor": "#2a3f5f",
             "gridcolor": "white",
             "linecolor": "white",
             "minorgridcolor": "white",
             "startlinecolor": "#2a3f5f"
            },
            "type": "carpet"
           }
          ],
          "choropleth": [
           {
            "colorbar": {
             "outlinewidth": 0,
             "ticks": ""
            },
            "type": "choropleth"
           }
          ],
          "contour": [
           {
            "colorbar": {
             "outlinewidth": 0,
             "ticks": ""
            },
            "colorscale": [
             [
              0,
              "#0d0887"
             ],
             [
              0.1111111111111111,
              "#46039f"
             ],
             [
              0.2222222222222222,
              "#7201a8"
             ],
             [
              0.3333333333333333,
              "#9c179e"
             ],
             [
              0.4444444444444444,
              "#bd3786"
             ],
             [
              0.5555555555555556,
              "#d8576b"
             ],
             [
              0.6666666666666666,
              "#ed7953"
             ],
             [
              0.7777777777777778,
              "#fb9f3a"
             ],
             [
              0.8888888888888888,
              "#fdca26"
             ],
             [
              1,
              "#f0f921"
             ]
            ],
            "type": "contour"
           }
          ],
          "contourcarpet": [
           {
            "colorbar": {
             "outlinewidth": 0,
             "ticks": ""
            },
            "type": "contourcarpet"
           }
          ],
          "heatmap": [
           {
            "colorbar": {
             "outlinewidth": 0,
             "ticks": ""
            },
            "colorscale": [
             [
              0,
              "#0d0887"
             ],
             [
              0.1111111111111111,
              "#46039f"
             ],
             [
              0.2222222222222222,
              "#7201a8"
             ],
             [
              0.3333333333333333,
              "#9c179e"
             ],
             [
              0.4444444444444444,
              "#bd3786"
             ],
             [
              0.5555555555555556,
              "#d8576b"
             ],
             [
              0.6666666666666666,
              "#ed7953"
             ],
             [
              0.7777777777777778,
              "#fb9f3a"
             ],
             [
              0.8888888888888888,
              "#fdca26"
             ],
             [
              1,
              "#f0f921"
             ]
            ],
            "type": "heatmap"
           }
          ],
          "heatmapgl": [
           {
            "colorbar": {
             "outlinewidth": 0,
             "ticks": ""
            },
            "colorscale": [
             [
              0,
              "#0d0887"
             ],
             [
              0.1111111111111111,
              "#46039f"
             ],
             [
              0.2222222222222222,
              "#7201a8"
             ],
             [
              0.3333333333333333,
              "#9c179e"
             ],
             [
              0.4444444444444444,
              "#bd3786"
             ],
             [
              0.5555555555555556,
              "#d8576b"
             ],
             [
              0.6666666666666666,
              "#ed7953"
             ],
             [
              0.7777777777777778,
              "#fb9f3a"
             ],
             [
              0.8888888888888888,
              "#fdca26"
             ],
             [
              1,
              "#f0f921"
             ]
            ],
            "type": "heatmapgl"
           }
          ],
          "histogram": [
           {
            "marker": {
             "colorbar": {
              "outlinewidth": 0,
              "ticks": ""
             }
            },
            "type": "histogram"
           }
          ],
          "histogram2d": [
           {
            "colorbar": {
             "outlinewidth": 0,
             "ticks": ""
            },
            "colorscale": [
             [
              0,
              "#0d0887"
             ],
             [
              0.1111111111111111,
              "#46039f"
             ],
             [
              0.2222222222222222,
              "#7201a8"
             ],
             [
              0.3333333333333333,
              "#9c179e"
             ],
             [
              0.4444444444444444,
              "#bd3786"
             ],
             [
              0.5555555555555556,
              "#d8576b"
             ],
             [
              0.6666666666666666,
              "#ed7953"
             ],
             [
              0.7777777777777778,
              "#fb9f3a"
             ],
             [
              0.8888888888888888,
              "#fdca26"
             ],
             [
              1,
              "#f0f921"
             ]
            ],
            "type": "histogram2d"
           }
          ],
          "histogram2dcontour": [
           {
            "colorbar": {
             "outlinewidth": 0,
             "ticks": ""
            },
            "colorscale": [
             [
              0,
              "#0d0887"
             ],
             [
              0.1111111111111111,
              "#46039f"
             ],
             [
              0.2222222222222222,
              "#7201a8"
             ],
             [
              0.3333333333333333,
              "#9c179e"
             ],
             [
              0.4444444444444444,
              "#bd3786"
             ],
             [
              0.5555555555555556,
              "#d8576b"
             ],
             [
              0.6666666666666666,
              "#ed7953"
             ],
             [
              0.7777777777777778,
              "#fb9f3a"
             ],
             [
              0.8888888888888888,
              "#fdca26"
             ],
             [
              1,
              "#f0f921"
             ]
            ],
            "type": "histogram2dcontour"
           }
          ],
          "mesh3d": [
           {
            "colorbar": {
             "outlinewidth": 0,
             "ticks": ""
            },
            "type": "mesh3d"
           }
          ],
          "parcoords": [
           {
            "line": {
             "colorbar": {
              "outlinewidth": 0,
              "ticks": ""
             }
            },
            "type": "parcoords"
           }
          ],
          "pie": [
           {
            "automargin": true,
            "type": "pie"
           }
          ],
          "scatter": [
           {
            "marker": {
             "colorbar": {
              "outlinewidth": 0,
              "ticks": ""
             }
            },
            "type": "scatter"
           }
          ],
          "scatter3d": [
           {
            "line": {
             "colorbar": {
              "outlinewidth": 0,
              "ticks": ""
             }
            },
            "marker": {
             "colorbar": {
              "outlinewidth": 0,
              "ticks": ""
             }
            },
            "type": "scatter3d"
           }
          ],
          "scattercarpet": [
           {
            "marker": {
             "colorbar": {
              "outlinewidth": 0,
              "ticks": ""
             }
            },
            "type": "scattercarpet"
           }
          ],
          "scattergeo": [
           {
            "marker": {
             "colorbar": {
              "outlinewidth": 0,
              "ticks": ""
             }
            },
            "type": "scattergeo"
           }
          ],
          "scattergl": [
           {
            "marker": {
             "colorbar": {
              "outlinewidth": 0,
              "ticks": ""
             }
            },
            "type": "scattergl"
           }
          ],
          "scattermapbox": [
           {
            "marker": {
             "colorbar": {
              "outlinewidth": 0,
              "ticks": ""
             }
            },
            "type": "scattermapbox"
           }
          ],
          "scatterpolar": [
           {
            "marker": {
             "colorbar": {
              "outlinewidth": 0,
              "ticks": ""
             }
            },
            "type": "scatterpolar"
           }
          ],
          "scatterpolargl": [
           {
            "marker": {
             "colorbar": {
              "outlinewidth": 0,
              "ticks": ""
             }
            },
            "type": "scatterpolargl"
           }
          ],
          "scatterternary": [
           {
            "marker": {
             "colorbar": {
              "outlinewidth": 0,
              "ticks": ""
             }
            },
            "type": "scatterternary"
           }
          ],
          "surface": [
           {
            "colorbar": {
             "outlinewidth": 0,
             "ticks": ""
            },
            "colorscale": [
             [
              0,
              "#0d0887"
             ],
             [
              0.1111111111111111,
              "#46039f"
             ],
             [
              0.2222222222222222,
              "#7201a8"
             ],
             [
              0.3333333333333333,
              "#9c179e"
             ],
             [
              0.4444444444444444,
              "#bd3786"
             ],
             [
              0.5555555555555556,
              "#d8576b"
             ],
             [
              0.6666666666666666,
              "#ed7953"
             ],
             [
              0.7777777777777778,
              "#fb9f3a"
             ],
             [
              0.8888888888888888,
              "#fdca26"
             ],
             [
              1,
              "#f0f921"
             ]
            ],
            "type": "surface"
           }
          ],
          "table": [
           {
            "cells": {
             "fill": {
              "color": "#EBF0F8"
             },
             "line": {
              "color": "white"
             }
            },
            "header": {
             "fill": {
              "color": "#C8D4E3"
             },
             "line": {
              "color": "white"
             }
            },
            "type": "table"
           }
          ]
         },
         "layout": {
          "annotationdefaults": {
           "arrowcolor": "#2a3f5f",
           "arrowhead": 0,
           "arrowwidth": 1
          },
          "autotypenumbers": "strict",
          "coloraxis": {
           "colorbar": {
            "outlinewidth": 0,
            "ticks": ""
           }
          },
          "colorscale": {
           "diverging": [
            [
             0,
             "#8e0152"
            ],
            [
             0.1,
             "#c51b7d"
            ],
            [
             0.2,
             "#de77ae"
            ],
            [
             0.3,
             "#f1b6da"
            ],
            [
             0.4,
             "#fde0ef"
            ],
            [
             0.5,
             "#f7f7f7"
            ],
            [
             0.6,
             "#e6f5d0"
            ],
            [
             0.7,
             "#b8e186"
            ],
            [
             0.8,
             "#7fbc41"
            ],
            [
             0.9,
             "#4d9221"
            ],
            [
             1,
             "#276419"
            ]
           ],
           "sequential": [
            [
             0,
             "#0d0887"
            ],
            [
             0.1111111111111111,
             "#46039f"
            ],
            [
             0.2222222222222222,
             "#7201a8"
            ],
            [
             0.3333333333333333,
             "#9c179e"
            ],
            [
             0.4444444444444444,
             "#bd3786"
            ],
            [
             0.5555555555555556,
             "#d8576b"
            ],
            [
             0.6666666666666666,
             "#ed7953"
            ],
            [
             0.7777777777777778,
             "#fb9f3a"
            ],
            [
             0.8888888888888888,
             "#fdca26"
            ],
            [
             1,
             "#f0f921"
            ]
           ],
           "sequentialminus": [
            [
             0,
             "#0d0887"
            ],
            [
             0.1111111111111111,
             "#46039f"
            ],
            [
             0.2222222222222222,
             "#7201a8"
            ],
            [
             0.3333333333333333,
             "#9c179e"
            ],
            [
             0.4444444444444444,
             "#bd3786"
            ],
            [
             0.5555555555555556,
             "#d8576b"
            ],
            [
             0.6666666666666666,
             "#ed7953"
            ],
            [
             0.7777777777777778,
             "#fb9f3a"
            ],
            [
             0.8888888888888888,
             "#fdca26"
            ],
            [
             1,
             "#f0f921"
            ]
           ]
          },
          "colorway": [
           "#636efa",
           "#EF553B",
           "#00cc96",
           "#ab63fa",
           "#FFA15A",
           "#19d3f3",
           "#FF6692",
           "#B6E880",
           "#FF97FF",
           "#FECB52"
          ],
          "font": {
           "color": "#2a3f5f"
          },
          "geo": {
           "bgcolor": "white",
           "lakecolor": "white",
           "landcolor": "#E5ECF6",
           "showlakes": true,
           "showland": true,
           "subunitcolor": "white"
          },
          "hoverlabel": {
           "align": "left"
          },
          "hovermode": "closest",
          "mapbox": {
           "style": "light"
          },
          "paper_bgcolor": "white",
          "plot_bgcolor": "#E5ECF6",
          "polar": {
           "angularaxis": {
            "gridcolor": "white",
            "linecolor": "white",
            "ticks": ""
           },
           "bgcolor": "#E5ECF6",
           "radialaxis": {
            "gridcolor": "white",
            "linecolor": "white",
            "ticks": ""
           }
          },
          "scene": {
           "xaxis": {
            "backgroundcolor": "#E5ECF6",
            "gridcolor": "white",
            "gridwidth": 2,
            "linecolor": "white",
            "showbackground": true,
            "ticks": "",
            "zerolinecolor": "white"
           },
           "yaxis": {
            "backgroundcolor": "#E5ECF6",
            "gridcolor": "white",
            "gridwidth": 2,
            "linecolor": "white",
            "showbackground": true,
            "ticks": "",
            "zerolinecolor": "white"
           },
           "zaxis": {
            "backgroundcolor": "#E5ECF6",
            "gridcolor": "white",
            "gridwidth": 2,
            "linecolor": "white",
            "showbackground": true,
            "ticks": "",
            "zerolinecolor": "white"
           }
          },
          "shapedefaults": {
           "line": {
            "color": "#2a3f5f"
           }
          },
          "ternary": {
           "aaxis": {
            "gridcolor": "white",
            "linecolor": "white",
            "ticks": ""
           },
           "baxis": {
            "gridcolor": "white",
            "linecolor": "white",
            "ticks": ""
           },
           "bgcolor": "#E5ECF6",
           "caxis": {
            "gridcolor": "white",
            "linecolor": "white",
            "ticks": ""
           }
          },
          "title": {
           "x": 0.05
          },
          "xaxis": {
           "automargin": true,
           "gridcolor": "white",
           "linecolor": "white",
           "ticks": "",
           "title": {
            "standoff": 15
           },
           "zerolinecolor": "white",
           "zerolinewidth": 2
          },
          "yaxis": {
           "automargin": true,
           "gridcolor": "white",
           "linecolor": "white",
           "ticks": "",
           "title": {
            "standoff": 15
           },
           "zerolinecolor": "white",
           "zerolinewidth": 2
          }
         }
        },
        "title": {
         "text": "Verjünung nach Abgang"
        },
        "width": 800,
        "xaxis": {
         "anchor": "y",
         "autorange": true,
         "domain": [
          0,
          1
         ],
         "range": [
          -0.5,
          13.5
         ],
         "title": {
          "text": "Kanzler(kandidaten)"
         },
         "type": "category"
        },
        "yaxis": {
         "anchor": "x",
         "autorange": true,
         "domain": [
          0,
          1
         ],
         "range": [
          -28.333333333333332,
          18.333333333333332
         ],
         "title": {
          "text": "value"
         },
         "type": "linear"
        }
       }
      },
      "image/png": "[encoded data removed]",
      "text/html": [
       "<div>                            <div id=\"830d8b39-836f-4c1a-916a-b537152d9944\" class=\"plotly-graph-div\" style=\"height:600px; width:800px;\"></div>            <script type=\"text/javascript\">                require([\"plotly\"], function(Plotly) {                    window.PLOTLYENV=window.PLOTLYENV || {};                                    if (document.getElementById(\"830d8b39-836f-4c1a-916a-b537152d9944\")) {                    Plotly.newPlot(                        \"830d8b39-836f-4c1a-916a-b537152d9944\",                        [{\"alignmentgroup\":\"True\",\"customdata\":[[\"1949-09-15T00:00:00\",\"1963-10-16T00:00:00\"],[\"1963-10-16T00:00:00\",\"1966-12-01T00:00:00\"],[\"1966-12-01T00:00:00\",\"1969-10-21T00:00:00\"],[\"1969-10-21T00:00:00\",\"1974-04-07T00:00:00\"],[\"1974-04-07T00:00:00\",\"1974-04-16T00:00:00\"],[\"1974-04-16T00:00:00\",\"1982-10-01T00:00:00\"],[\"1982-10-01T00:00:00\",\"1998-10-27T00:00:00\"],[\"1998-10-27T00:00:00\",\"2005-11-22T00:00:00\"],[\"2005-11-22T00:00:00\",\"2021-10-31T00:00:00\"],[\"2021-10-31T00:00:00\",0],[\"2021-10-31T00:00:00\",0],[\"2021-10-31T00:00:00\",0],[\"2021-10-31T00:00:00\",0],[\"2021-10-31T00:00:00\",0]],\"hovertemplate\":\"variable=J\\u00fcnger (Jahre)<br>Kanzler(kandidaten)=%{x}<br>value=%{y}<br>Amtsantritt=%{customdata[0]}<br>Abtritt=%{customdata[1]}<extra></extra>\",\"legendgroup\":\"J\\u00fcnger (Jahre)\",\"marker\":{\"color\":\"rgb(102, 197, 204)\"},\"name\":\"J\\u00fcnger (Jahre)\",\"offsetgroup\":\"J\\u00fcnger (Jahre)\",\"orientation\":\"v\",\"showlegend\":true,\"textposition\":\"auto\",\"type\":\"bar\",\"x\":[\"Konrad Adenauer\",\"Ludwig Erhard\",\"Kurt Georg Kiesinger\",\"Willy Brandt\",\"Walter Scheel\",\"Helmut Schmidt\",\"Helmut Kohl\",\"Gerhard Schr\\u00f6der\",\"Angela Merkel\",\"Olaf Scholz\",\"Annalena Baerbock\",\"Armin Laschet\",\"Robert Habeck\",\"Markus S\\u00f6der\"],\"xaxis\":\"x\",\"y\":[0,-21,-7,-9,-6,1,-12,-14,-10,-4,-26,-7,-15,-13],\"yaxis\":\"y\"},{\"alignmentgroup\":\"True\",\"customdata\":[[\"1949-09-15T00:00:00\",\"1963-10-16T00:00:00\"],[\"1963-10-16T00:00:00\",\"1966-12-01T00:00:00\"],[\"1966-12-01T00:00:00\",\"1969-10-21T00:00:00\"],[\"1969-10-21T00:00:00\",\"1974-04-07T00:00:00\"],[\"1974-04-07T00:00:00\",\"1974-04-16T00:00:00\"],[\"1974-04-16T00:00:00\",\"1982-10-01T00:00:00\"],[\"1982-10-01T00:00:00\",\"1998-10-27T00:00:00\"],[\"1998-10-27T00:00:00\",\"2005-11-22T00:00:00\"],[\"2005-11-22T00:00:00\",\"2021-10-31T00:00:00\"],[\"2021-10-31T00:00:00\",0],[\"2021-10-31T00:00:00\",0],[\"2021-10-31T00:00:00\",0],[\"2021-10-31T00:00:00\",0],[\"2021-10-31T00:00:00\",0]],\"hovertemplate\":\"variable=Amtszeit (Jahre)<br>Kanzler(kandidaten)=%{x}<br>value=%{y}<br>Amtsantritt=%{customdata[0]}<br>Abtritt=%{customdata[1]}<extra></extra>\",\"legendgroup\":\"Amtszeit (Jahre)\",\"marker\":{\"color\":\"rgb(246, 207, 113)\"},\"name\":\"Amtszeit (Jahre)\",\"offsetgroup\":\"Amtszeit (Jahre)\",\"orientation\":\"v\",\"showlegend\":true,\"textposition\":\"auto\",\"type\":\"bar\",\"x\":[\"Konrad Adenauer\",\"Ludwig Erhard\",\"Kurt Georg Kiesinger\",\"Willy Brandt\",\"Walter Scheel\",\"Helmut Schmidt\",\"Helmut Kohl\",\"Gerhard Schr\\u00f6der\",\"Angela Merkel\",\"Olaf Scholz\",\"Annalena Baerbock\",\"Armin Laschet\",\"Robert Habeck\",\"Markus S\\u00f6der\"],\"xaxis\":\"x\",\"y\":[14,3,2,4,0,8,16,7,15,0,0,0,0,0],\"yaxis\":\"y\"}],                        {\"barmode\":\"group\",\"height\":600,\"legend\":{\"title\":{\"text\":\"variable\"},\"tracegroupgap\":0},\"template\":{\"data\":{\"bar\":[{\"error_x\":{\"color\":\"#2a3f5f\"},\"error_y\":{\"color\":\"#2a3f5f\"},\"marker\":{\"line\":{\"color\":\"#E5ECF6\",\"width\":0.5}},\"type\":\"bar\"}],\"barpolar\":[{\"marker\":{\"line\":{\"color\":\"#E5ECF6\",\"width\":0.5}},\"type\":\"barpolar\"}],\"carpet\":[{\"aaxis\":{\"endlinecolor\":\"#2a3f5f\",\"gridcolor\":\"white\",\"linecolor\":\"white\",\"minorgridcolor\":\"white\",\"startlinecolor\":\"#2a3f5f\"},\"baxis\":{\"endlinecolor\":\"#2a3f5f\",\"gridcolor\":\"white\",\"linecolor\":\"white\",\"minorgridcolor\":\"white\",\"startlinecolor\":\"#2a3f5f\"},\"type\":\"carpet\"}],\"choropleth\":[{\"colorbar\":{\"outlinewidth\":0,\"ticks\":\"\"},\"type\":\"choropleth\"}],\"contour\":[{\"colorbar\":{\"outlinewidth\":0,\"ticks\":\"\"},\"colorscale\":[[0.0,\"#0d0887\"],[0.1111111111111111,\"#46039f\"],[0.2222222222222222,\"#7201a8\"],[0.3333333333333333,\"#9c179e\"],[0.4444444444444444,\"#bd3786\"],[0.5555555555555556,\"#d8576b\"],[0.6666666666666666,\"#ed7953\"],[0.7777777777777778,\"#fb9f3a\"],[0.8888888888888888,\"#fdca26\"],[1.0,\"#f0f921\"]],\"type\":\"contour\"}],\"contourcarpet\":[{\"colorbar\":{\"outlinewidth\":0,\"ticks\":\"\"},\"type\":\"contourcarpet\"}],\"heatmap\":[{\"colorbar\":{\"outlinewidth\":0,\"ticks\":\"\"},\"colorscale\":[[0.0,\"#0d0887\"],[0.1111111111111111,\"#46039f\"],[0.2222222222222222,\"#7201a8\"],[0.3333333333333333,\"#9c179e\"],[0.4444444444444444,\"#bd3786\"],[0.5555555555555556,\"#d8576b\"],[0.6666666666666666,\"#ed7953\"],[0.7777777777777778,\"#fb9f3a\"],[0.8888888888888888,\"#fdca26\"],[1.0,\"#f0f921\"]],\"type\":\"heatmap\"}],\"heatmapgl\":[{\"colorbar\":{\"outlinewidth\":0,\"ticks\":\"\"},\"colorscale\":[[0.0,\"#0d0887\"],[0.1111111111111111,\"#46039f\"],[0.2222222222222222,\"#7201a8\"],[0.3333333333333333,\"#9c179e\"],[0.4444444444444444,\"#bd3786\"],[0.5555555555555556,\"#d8576b\"],[0.6666666666666666,\"#ed7953\"],[0.7777777777777778,\"#fb9f3a\"],[0.8888888888888888,\"#fdca26\"],[1.0,\"#f0f921\"]],\"type\":\"heatmapgl\"}],\"histogram\":[{\"marker\":{\"colorbar\":{\"outlinewidth\":0,\"ticks\":\"\"}},\"type\":\"histogram\"}],\"histogram2d\":[{\"colorbar\":{\"outlinewidth\":0,\"ticks\":\"\"},\"colorscale\":[[0.0,\"#0d0887\"],[0.1111111111111111,\"#46039f\"],[0.2222222222222222,\"#7201a8\"],[0.3333333333333333,\"#9c179e\"],[0.4444444444444444,\"#bd3786\"],[0.5555555555555556,\"#d8576b\"],[0.6666666666666666,\"#ed7953\"],[0.7777777777777778,\"#fb9f3a\"],[0.8888888888888888,\"#fdca26\"],[1.0,\"#f0f921\"]],\"type\":\"histogram2d\"}],\"histogram2dcontour\":[{\"colorbar\":{\"outlinewidth\":0,\"ticks\":\"\"},\"colorscale\":[[0.0,\"#0d0887\"],[0.1111111111111111,\"#46039f\"],[0.2222222222222222,\"#7201a8\"],[0.3333333333333333,\"#9c179e\"],[0.4444444444444444,\"#bd3786\"],[0.5555555555555556,\"#d8576b\"],[0.6666666666666666,\"#ed7953\"],[0.7777777777777778,\"#fb9f3a\"],[0.8888888888888888,\"#fdca26\"],[1.0,\"#f0f921\"]],\"type\":\"histogram2dcontour\"}],\"mesh3d\":[{\"colorbar\":{\"outlinewidth\":0,\"ticks\":\"\"},\"type\":\"mesh3d\"}],\"parcoords\":[{\"line\":{\"colorbar\":{\"outlinewidth\":0,\"ticks\":\"\"}},\"type\":\"parcoords\"}],\"pie\":[{\"automargin\":true,\"type\":\"pie\"}],\"scatter\":[{\"marker\":{\"colorbar\":{\"outlinewidth\":0,\"ticks\":\"\"}},\"type\":\"scatter\"}],\"scatter3d\":[{\"line\":{\"colorbar\":{\"outlinewidth\":0,\"ticks\":\"\"}},\"marker\":{\"colorbar\":{\"outlinewidth\":0,\"ticks\":\"\"}},\"type\":\"scatter3d\"}],\"scattercarpet\":[{\"marker\":{\"colorbar\":{\"outlinewidth\":0,\"ticks\":\"\"}},\"type\":\"scattercarpet\"}],\"scattergeo\":[{\"marker\":{\"colorbar\":{\"outlinewidth\":0,\"ticks\":\"\"}},\"type\":\"scattergeo\"}],\"scattergl\":[{\"marker\":{\"colorbar\":{\"outlinewidth\":0,\"ticks\":\"\"}},\"type\":\"scattergl\"}],\"scattermapbox\":[{\"marker\":{\"colorbar\":{\"outlinewidth\":0,\"ticks\":\"\"}},\"type\":\"scattermapbox\"}],\"scatterpolar\":[{\"marker\":{\"colorbar\":{\"outlinewidth\":0,\"ticks\":\"\"}},\"type\":\"scatterpolar\"}],\"scatterpolargl\":[{\"marker\":{\"colorbar\":{\"outlinewidth\":0,\"ticks\":\"\"}},\"type\":\"scatterpolargl\"}],\"scatterternary\":[{\"marker\":{\"colorbar\":{\"outlinewidth\":0,\"ticks\":\"\"}},\"type\":\"scatterternary\"}],\"surface\":[{\"colorbar\":{\"outlinewidth\":0,\"ticks\":\"\"},\"colorscale\":[[0.0,\"#0d0887\"],[0.1111111111111111,\"#46039f\"],[0.2222222222222222,\"#7201a8\"],[0.3333333333333333,\"#9c179e\"],[0.4444444444444444,\"#bd3786\"],[0.5555555555555556,\"#d8576b\"],[0.6666666666666666,\"#ed7953\"],[0.7777777777777778,\"#fb9f3a\"],[0.8888888888888888,\"#fdca26\"],[1.0,\"#f0f921\"]],\"type\":\"surface\"}],\"table\":[{\"cells\":{\"fill\":{\"color\":\"#EBF0F8\"},\"line\":{\"color\":\"white\"}},\"header\":{\"fill\":{\"color\":\"#C8D4E3\"},\"line\":{\"color\":\"white\"}},\"type\":\"table\"}]},\"layout\":{\"annotationdefaults\":{\"arrowcolor\":\"#2a3f5f\",\"arrowhead\":0,\"arrowwidth\":1},\"autotypenumbers\":\"strict\",\"coloraxis\":{\"colorbar\":{\"outlinewidth\":0,\"ticks\":\"\"}},\"colorscale\":{\"diverging\":[[0,\"#8e0152\"],[0.1,\"#c51b7d\"],[0.2,\"#de77ae\"],[0.3,\"#f1b6da\"],[0.4,\"#fde0ef\"],[0.5,\"#f7f7f7\"],[0.6,\"#e6f5d0\"],[0.7,\"#b8e186\"],[0.8,\"#7fbc41\"],[0.9,\"#4d9221\"],[1,\"#276419\"]],\"sequential\":[[0.0,\"#0d0887\"],[0.1111111111111111,\"#46039f\"],[0.2222222222222222,\"#7201a8\"],[0.3333333333333333,\"#9c179e\"],[0.4444444444444444,\"#bd3786\"],[0.5555555555555556,\"#d8576b\"],[0.6666666666666666,\"#ed7953\"],[0.7777777777777778,\"#fb9f3a\"],[0.8888888888888888,\"#fdca26\"],[1.0,\"#f0f921\"]],\"sequentialminus\":[[0.0,\"#0d0887\"],[0.1111111111111111,\"#46039f\"],[0.2222222222222222,\"#7201a8\"],[0.3333333333333333,\"#9c179e\"],[0.4444444444444444,\"#bd3786\"],[0.5555555555555556,\"#d8576b\"],[0.6666666666666666,\"#ed7953\"],[0.7777777777777778,\"#fb9f3a\"],[0.8888888888888888,\"#fdca26\"],[1.0,\"#f0f921\"]]},\"colorway\":[\"#636efa\",\"#EF553B\",\"#00cc96\",\"#ab63fa\",\"#FFA15A\",\"#19d3f3\",\"#FF6692\",\"#B6E880\",\"#FF97FF\",\"#FECB52\"],\"font\":{\"color\":\"#2a3f5f\"},\"geo\":{\"bgcolor\":\"white\",\"lakecolor\":\"white\",\"landcolor\":\"#E5ECF6\",\"showlakes\":true,\"showland\":true,\"subunitcolor\":\"white\"},\"hoverlabel\":{\"align\":\"left\"},\"hovermode\":\"closest\",\"mapbox\":{\"style\":\"light\"},\"paper_bgcolor\":\"white\",\"plot_bgcolor\":\"#E5ECF6\",\"polar\":{\"angularaxis\":{\"gridcolor\":\"white\",\"linecolor\":\"white\",\"ticks\":\"\"},\"bgcolor\":\"#E5ECF6\",\"radialaxis\":{\"gridcolor\":\"white\",\"linecolor\":\"white\",\"ticks\":\"\"}},\"scene\":{\"xaxis\":{\"backgroundcolor\":\"#E5ECF6\",\"gridcolor\":\"white\",\"gridwidth\":2,\"linecolor\":\"white\",\"showbackground\":true,\"ticks\":\"\",\"zerolinecolor\":\"white\"},\"yaxis\":{\"backgroundcolor\":\"#E5ECF6\",\"gridcolor\":\"white\",\"gridwidth\":2,\"linecolor\":\"white\",\"showbackground\":true,\"ticks\":\"\",\"zerolinecolor\":\"white\"},\"zaxis\":{\"backgroundcolor\":\"#E5ECF6\",\"gridcolor\":\"white\",\"gridwidth\":2,\"linecolor\":\"white\",\"showbackground\":true,\"ticks\":\"\",\"zerolinecolor\":\"white\"}},\"shapedefaults\":{\"line\":{\"color\":\"#2a3f5f\"}},\"ternary\":{\"aaxis\":{\"gridcolor\":\"white\",\"linecolor\":\"white\",\"ticks\":\"\"},\"baxis\":{\"gridcolor\":\"white\",\"linecolor\":\"white\",\"ticks\":\"\"},\"bgcolor\":\"#E5ECF6\",\"caxis\":{\"gridcolor\":\"white\",\"linecolor\":\"white\",\"ticks\":\"\"}},\"title\":{\"x\":0.05},\"xaxis\":{\"automargin\":true,\"gridcolor\":\"white\",\"linecolor\":\"white\",\"ticks\":\"\",\"title\":{\"standoff\":15},\"zerolinecolor\":\"white\",\"zerolinewidth\":2},\"yaxis\":{\"automargin\":true,\"gridcolor\":\"white\",\"linecolor\":\"white\",\"ticks\":\"\",\"title\":{\"standoff\":15},\"zerolinecolor\":\"white\",\"zerolinewidth\":2}}},\"title\":{\"text\":\"Verj\\u00fcnung nach Abgang\"},\"width\":800,\"xaxis\":{\"anchor\":\"y\",\"domain\":[0.0,1.0],\"title\":{\"text\":\"Kanzler(kandidaten)\"}},\"yaxis\":{\"anchor\":\"x\",\"domain\":[0.0,1.0],\"title\":{\"text\":\"value\"}}},                        {\"responsive\": true}                    ).then(function(){\n",
       "                            \n",
       "var gd = document.getElementById('830d8b39-836f-4c1a-916a-b537152d9944');\n",
       "var x = new MutationObserver(function (mutations, observer) {{\n",
       "        var display = window.getComputedStyle(gd).display;\n",
       "        if (!display || display === 'none') {{\n",
       "            console.log([gd, 'removed!']);\n",
       "            Plotly.purge(gd);\n",
       "            observer.disconnect();\n",
       "        }}\n",
       "}});\n",
       "\n",
       "// Listen for the removal of the full notebook cells\n",
       "var notebookContainer = gd.closest('#notebook-container');\n",
       "if (notebookContainer) {{\n",
       "    x.observe(notebookContainer, {childList: true});\n",
       "}}\n",
       "\n",
       "// Listen for the clearing of the current output cell\n",
       "var outputEl = gd.closest('.output');\n",
       "if (outputEl) {{\n",
       "    x.observe(outputEl, {childList: true});\n",
       "}}\n",
       "\n",
       "                        })                };                });            </script>        </div>"
      ]
     },
     "metadata": {},
     "output_type": "display_data"
    }
   ],
   "source": [
    "fig2 = px.bar(df, x='Name', y=['Jünger (Jahre)',\"Amtszeit (Jahre)\"],\n",
    "             hover_data=['Name', 'Amtsantritt', \"Abtritt\"], \n",
    "             \n",
    "             height=600, width=800, \n",
    "             #color_discrete_map={\n",
    "             #   \"CDU\":\"black\",\n",
    "             #   \"CSU\": \"black\",\n",
    "             #   \"SPD\": \"red\",\n",
    "             #   \"Grüne\": \"green\",\n",
    "             #   \"FDP\": \"yellow\",\n",
    "             #   }, \n",
    "             #color='Partei', \n",
    "             barmode='group',\n",
    "             labels={'Name':'Kanzler(kandidaten)',\"['Jünger als VorgängerIn in Jahren','Amtszeit in Jahren']\":\"Altersunterschied\"},\n",
    "             color_discrete_sequence=px.colors.qualitative.Pastel,\n",
    "             title=\"Verjünung nach Abgang\")\n",
    "#fig2.update_layout(xaxis={'categoryorder':'total ascending'})\n",
    "fig2.show()"
   ]
  },
  {
   "cell_type": "code",
   "execution_count": null,
   "id": "869415bb",
   "metadata": {},
   "outputs": [],
   "source": [
    "filename = 'antrittsalter.html'\n",
    "plotly.offline.plot(fig1, filename=filename)\n",
    "\n",
    "filename = 'verjungung.html'\n",
    "plotly.offline.plot(fig2, filename=filename)"
   ]
  }
 ],
 "metadata": {
  "kernelspec": {
   "display_name": "Python 3",
   "language": "python",
   "name": "python3"
  },
  "language_info": {
   "codemirror_mode": {
    "name": "ipython",
    "version": 3
   },
   "file_extension": ".py",
   "mimetype": "text/x-python",
   "name": "python",
   "nbconvert_exporter": "python",
   "pygments_lexer": "ipython3",
   "version": "3.9.2"
  }
 },
 "nbformat": 4,
 "nbformat_minor": 5
}
